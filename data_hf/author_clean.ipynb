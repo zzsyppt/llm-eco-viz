{
 "cells": [
  {
   "cell_type": "code",
   "execution_count": 1,
   "metadata": {},
   "outputs": [
    {
     "name": "stdout",
     "output_type": "stream",
     "text": [
      "Data cleaning complete. Updated data saved to author_metadata.json\n"
     ]
    }
   ],
   "source": [
    "import json\n",
    "\n",
    "def clean_author_metadata(file_path):\n",
    "    \"\"\"\n",
    "    清洗 author_metadata.json 中的 photo 字段，为不以 'https' 开头的值补充前缀 'https://huggingface.co/'。\n",
    "    Args:\n",
    "        file_path (str): 文件路径\n",
    "    \"\"\"\n",
    "    with open(file_path, 'r', encoding='utf-8') as f:\n",
    "        author_data = json.load(f)\n",
    "\n",
    "    # 遍历所有作者信息并清洗 photo 字段\n",
    "    for author, details in author_data.items():\n",
    "        photo_url = details.get('photo', '')\n",
    "        if not photo_url.startswith('https'):\n",
    "            # 补充前缀\n",
    "            author_data[author]['photo'] = f\"https://huggingface.co{photo_url}\"\n",
    "\n",
    "    # 写入清洗后的数据回到文件中\n",
    "    with open(file_path, 'w', encoding='utf-8') as f:\n",
    "        json.dump(author_data, f, ensure_ascii=False, indent=4)\n",
    "        print(f\"Data cleaning complete. Updated data saved to {file_path}\")\n",
    "\n",
    "# 示例：指定 author_metadata.json 的路径\n",
    "file_path = \"author_metadata.json\"\n",
    "clean_author_metadata(file_path)\n"
   ]
  }
 ],
 "metadata": {
  "kernelspec": {
   "display_name": "viz",
   "language": "python",
   "name": "python3"
  },
  "language_info": {
   "codemirror_mode": {
    "name": "ipython",
    "version": 3
   },
   "file_extension": ".py",
   "mimetype": "text/x-python",
   "name": "python",
   "nbconvert_exporter": "python",
   "pygments_lexer": "ipython3",
   "version": "3.9.21"
  }
 },
 "nbformat": 4,
 "nbformat_minor": 2
}
